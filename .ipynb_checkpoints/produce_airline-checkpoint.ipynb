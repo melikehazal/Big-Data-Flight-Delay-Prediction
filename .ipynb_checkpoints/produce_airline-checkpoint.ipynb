{
 "cells": [
  {
   "cell_type": "code",
   "execution_count": 1,
   "id": "62f25aec-99f1-4d64-877e-d6663ea6ad3b",
   "metadata": {},
   "outputs": [
    {
     "name": "stdout",
     "output_type": "stream",
     "text": [
      "Collecting kafka-python\n",
      "  Downloading kafka_python-2.2.6-py2.py3-none-any.whl (308 kB)\n",
      "Requirement already satisfied: pandas in c:\\users\\dell\\appdata\\local\\programs\\python\\python310\\lib\\site-packages (2.2.3)\n",
      "Requirement already satisfied: python-dateutil>=2.8.2 in c:\\users\\dell\\appdata\\local\\programs\\python\\python310\\lib\\site-packages (from pandas) (2.9.0.post0)\n",
      "Requirement already satisfied: pytz>=2020.1 in c:\\users\\dell\\appdata\\local\\programs\\python\\python310\\lib\\site-packages (from pandas) (2025.2)\n",
      "Requirement already satisfied: numpy>=1.22.4 in c:\\users\\dell\\appdata\\local\\programs\\python\\python310\\lib\\site-packages (from pandas) (1.26.4)\n",
      "Requirement already satisfied: tzdata>=2022.7 in c:\\users\\dell\\appdata\\local\\programs\\python\\python310\\lib\\site-packages (from pandas) (2025.2)\n",
      "Requirement already satisfied: six>=1.5 in c:\\users\\dell\\appdata\\local\\programs\\python\\python310\\lib\\site-packages (from python-dateutil>=2.8.2->pandas) (1.17.0)\n",
      "Installing collected packages: kafka-python\n",
      "Successfully installed kafka-python-2.2.6\n"
     ]
    },
    {
     "name": "stderr",
     "output_type": "stream",
     "text": [
      "WARNING: You are using pip version 21.2.3; however, version 25.1.1 is available.\n",
      "You should consider upgrading via the 'C:\\Users\\Dell\\AppData\\Local\\Programs\\Python\\Python310\\python.exe -m pip install --upgrade pip' command.\n"
     ]
    }
   ],
   "source": [
    "!pip install kafka-python pandas"
   ]
  },
  {
   "cell_type": "code",
   "execution_count": 2,
   "id": "57fe85a1-97ef-45b3-a99a-cafb6a6be12d",
   "metadata": {},
   "outputs": [
    {
     "name": "stdout",
     "output_type": "stream",
     "text": [
      "28221 kayıt test_topic’e gönderildi.\n"
     ]
    }
   ],
   "source": [
    "import pandas as pd\n",
    "import json\n",
    "from kafka import KafkaProducer\n",
    "\n",
    "# 1) Kafka Producer’ı oluştur\n",
    "producer = KafkaProducer(\n",
    "    bootstrap_servers=['localhost:9092'],\n",
    "    value_serializer=lambda v: json.dumps(v, ensure_ascii=False).encode('utf-8')\n",
    ")\n",
    "\n",
    "# 2) CSV’i pandas ile oku\n",
    "df = pd.read_csv('Airline_Delay_Cause.csv')  # dosya yolunu kendi dizinine göre ayarla\n",
    "\n",
    "# 3) Her bir satırı Kafka’ya gönder\n",
    "for _, row in df.iterrows():\n",
    "    record = row.to_dict()\n",
    "    producer.send('test_topic', value=record)\n",
    "\n",
    "# 4) Tüm mesajları flush et ve producer’ı kapat\n",
    "producer.flush()\n",
    "producer.close()\n",
    "\n",
    "print(f\"{len(df)} kayıt test_topic’e gönderildi.\")"
   ]
  },
  {
   "cell_type": "code",
   "execution_count": null,
   "id": "0a4789a9-65ce-49e6-87d7-5ed389b3bede",
   "metadata": {},
   "outputs": [],
   "source": []
  }
 ],
 "metadata": {
  "kernelspec": {
   "display_name": "Python 3 (ipykernel)",
   "language": "python",
   "name": "python3"
  },
  "language_info": {
   "codemirror_mode": {
    "name": "ipython",
    "version": 3
   },
   "file_extension": ".py",
   "mimetype": "text/x-python",
   "name": "python",
   "nbconvert_exporter": "python",
   "pygments_lexer": "ipython3",
   "version": "3.10.0"
  }
 },
 "nbformat": 4,
 "nbformat_minor": 5
}
