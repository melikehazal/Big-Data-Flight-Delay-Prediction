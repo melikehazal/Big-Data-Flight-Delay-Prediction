{
 "cells": [
  {
   "cell_type": "code",
   "execution_count": 1,
   "id": "e0322ae3-c14e-4e5f-bd2b-e6845370357d",
   "metadata": {},
   "outputs": [
    {
     "name": "stdout",
     "output_type": "stream",
     "text": [
      "{'year': 2024, 'month': 12, 'carrier': 'MQ', 'carrier_name': 'Envoy Air', 'airport': 'EVV', 'airport_name': 'Evansville, IN: Evansville Regional', 'arr_flights': 61.0, 'arr_del15': 9.0, 'carrier_ct': 1.52, 'weather_ct': 1.08, 'nas_ct': 0.56, 'security_ct': 0.0, 'late_aircraft_ct': 5.84, 'arr_cancelled': 0.0, 'arr_diverted': 0.0, 'arr_delay': 732.0, 'carrier_delay': 47.0, 'weather_delay': 90.0, 'nas_delay': 19.0, 'security_delay': 0.0, 'late_aircraft_delay': 576.0}\n",
      "{'year': 2024, 'month': 12, 'carrier': 'MQ', 'carrier_name': 'Envoy Air', 'airport': 'EWR', 'airport_name': 'Newark, NJ: Newark Liberty International', 'arr_flights': 107.0, 'arr_del15': 42.0, 'carrier_ct': 6.01, 'weather_ct': 5.89, 'nas_ct': 25.16, 'security_ct': 0.0, 'late_aircraft_ct': 4.94, 'arr_cancelled': 0.0, 'arr_diverted': 0.0, 'arr_delay': 2531.0, 'carrier_delay': 335.0, 'weather_delay': 491.0, 'nas_delay': 1251.0, 'security_delay': 0.0, 'late_aircraft_delay': 454.0}\n",
      "{'year': 2024, 'month': 12, 'carrier': 'MQ', 'carrier_name': 'Envoy Air', 'airport': 'EYW', 'airport_name': 'Key West, FL: Key West International', 'arr_flights': 169.0, 'arr_del15': 31.0, 'carrier_ct': 3.37, 'weather_ct': 0.71, 'nas_ct': 11.44, 'security_ct': 0.0, 'late_aircraft_ct': 15.48, 'arr_cancelled': 5.0, 'arr_diverted': 3.0, 'arr_delay': 1596.0, 'carrier_delay': 143.0, 'weather_delay': 52.0, 'nas_delay': 468.0, 'security_delay': 0.0, 'late_aircraft_delay': 933.0}\n",
      "{'year': 2024, 'month': 12, 'carrier': 'MQ', 'carrier_name': 'Envoy Air', 'airport': 'FAR', 'airport_name': 'Fargo, ND: Hector International', 'arr_flights': 171.0, 'arr_del15': 35.0, 'carrier_ct': 4.64, 'weather_ct': 2.12, 'nas_ct': 15.32, 'security_ct': 0.0, 'late_aircraft_ct': 12.92, 'arr_cancelled': 2.0, 'arr_diverted': 0.0, 'arr_delay': 2428.0, 'carrier_delay': 245.0, 'weather_delay': 184.0, 'nas_delay': 575.0, 'security_delay': 0.0, 'late_aircraft_delay': 1424.0}\n",
      "{'year': 2024, 'month': 12, 'carrier': 'MQ', 'carrier_name': 'Envoy Air', 'airport': 'FSD', 'airport_name': 'Sioux Falls, SD: Joe Foss Field', 'arr_flights': 69.0, 'arr_del15': 14.0, 'carrier_ct': 2.0, 'weather_ct': 2.47, 'nas_ct': 4.7, 'security_ct': 0.0, 'late_aircraft_ct': 4.83, 'arr_cancelled': 1.0, 'arr_diverted': 0.0, 'arr_delay': 720.0, 'carrier_delay': 86.0, 'weather_delay': 154.0, 'nas_delay': 191.0, 'security_delay': 0.0, 'late_aircraft_delay': 289.0}\n"
     ]
    }
   ],
   "source": [
    "from kafka import KafkaConsumer\n",
    "import json\n",
    "\n",
    "consumer = KafkaConsumer(\n",
    "    'test_topic',\n",
    "    bootstrap_servers=['localhost:9092'],\n",
    "    auto_offset_reset='earliest',\n",
    "    enable_auto_commit=False,\n",
    "    value_deserializer=lambda v: json.loads(v.decode('utf-8'))\n",
    ")\n",
    "\n",
    "count = 0\n",
    "for msg in consumer:\n",
    "    print(msg.value)\n",
    "    count += 1\n",
    "    if count >= 5:\n",
    "        break\n",
    "\n",
    "consumer.close()"
   ]
  },
  {
   "cell_type": "code",
   "execution_count": null,
   "id": "64564f62-c111-419c-87fc-8fcc8fb80951",
   "metadata": {},
   "outputs": [],
   "source": []
  }
 ],
 "metadata": {
  "kernelspec": {
   "display_name": "Python 3 (ipykernel)",
   "language": "python",
   "name": "python3"
  },
  "language_info": {
   "codemirror_mode": {
    "name": "ipython",
    "version": 3
   },
   "file_extension": ".py",
   "mimetype": "text/x-python",
   "name": "python",
   "nbconvert_exporter": "python",
   "pygments_lexer": "ipython3",
   "version": "3.10.0"
  }
 },
 "nbformat": 4,
 "nbformat_minor": 5
}
